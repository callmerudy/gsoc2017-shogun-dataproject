{
 "cells": [
  {
   "cell_type": "markdown",
   "metadata": {},
   "source": [
    "# Patient Monitoring and Decision Support using Health Data\n",
    "\n",
    "**Notebook by Olivier Nguyen (Github: [olinguyen](http://github.com/olinguyen))**\n",
    "\n",
    "In the past decade, great efforts have been made to better use information technology in healthcare. Every day, large amounts of patient and clinical data from hospitals and clinics are being generated and stored in electronic health records. However, little real-world applications have been developed in practice due to data previously being inaccessible to researchers and the sheer complexity of analyzing large datasets [1].\n",
    "\n",
    "With advances in data collection, machine learning and big data, the analysis of health data now enables the possiblity to provide real-time decision support for patients based on data from similar patients in previously similar scenarios. The vast amount of data currently available still remains a current challenge for clinicians and scientists. There is therefore a need to develop effective techniques and algorithms to fully exploit electronic health records to better improve the quality of care for the individual patient.\n",
    "\n",
    "For this Google Summer of Code 2017 data project, we will be exploring machine learning algorithms using the [Shogun Toolbox](http://shogun.ml/) applied to health data, more specifically the [MIMIC database](https://mimic.physionet.org/\n",
    "). The main objective is to exploit the rich information of the MIMIC database to build and evaluate models for\n",
    "\n",
    "* (1) mortality prediction\n",
    "* (2) hospital readmission \n",
    "* (3) length of stay\n",
    "\n",
    "Before we dive into any machine learning or data analysis, we'll first explore the contents of the MIMIC database."
   ]
  },
  {
   "cell_type": "markdown",
   "metadata": {},
   "source": [
    "## MIMIC Database\n",
    "\n",
    "The MIMIC database, short for Medical Information Mart For Intensive Care, is a database that holds a large amount of information relating to patients admitted to the intensive care unit (ICU) at a large care hospital. The dataset contains contains clinical data (demographics, diagnoses, laboratory values), time-stamped nurse-verified physiological measurements, documented progress notes by care providers, and much more.\n",
    "\n",
    "Although access to the database is freely available to researchers around the world, a Human Subjects training is required to handle sensitive patient information. More details for the formal request can be found in the following  [link](https://mimic.physionet.org/gettingstarted/access/).\n",
    "\n",
    "The following code will assume a prior installation of the MIMIC database in a local Postgres database. The installation procedure can be followed [here](https://mimic.physionet.org/tutorials/install-mimic-locally-ubuntu/)."
   ]
  },
  {
   "cell_type": "markdown",
   "metadata": {},
   "source": [
    "## Exploring the MIMIC database\n",
    "\n",
    "Since MIMIC is a relational database containing tables of patient data who stayed at the ICU, data will be extracted using SQL queries and then stored as Pandas dataframes for easy manipulation. To better understand the the database, we'll create the tables from the MIMIC-III paper [2] to get a better idea of what type of data we are dealing with."
   ]
  },
  {
   "cell_type": "code",
   "execution_count": 1,
   "metadata": {
    "collapsed": false
   },
   "outputs": [],
   "source": [
    "import numpy as np\n",
    "import pandas as pd\n",
    "import matplotlib.pyplot as plt\n",
    "import psycopg2\n",
    "import getpass\n",
    "%matplotlib inline"
   ]
  },
  {
   "cell_type": "code",
   "execution_count": 2,
   "metadata": {
    "collapsed": false
   },
   "outputs": [
    {
     "name": "stdout",
     "output_type": "stream",
     "text": [
      "········\n"
     ]
    }
   ],
   "source": [
    "# SQL database config\n",
    "sqluser = ''\n",
    "dbname = 'MIMIC3'\n",
    "schema_name = 'mimiciii'\n",
    "hostname = ''\n",
    "port = 5432\n",
    "pwd = getpass.getpass()"
   ]
  },
  {
   "cell_type": "code",
   "execution_count": 3,
   "metadata": {
    "collapsed": true
   },
   "outputs": [],
   "source": [
    "# Connect to local postgres version of mimic\n",
    "con = psycopg2.connect(dbname=dbname, user=sqluser, host=hostname, port=5432, password=pwd)\n",
    "cur = con.cursor()\n",
    "cur.execute('SET search_path to ' + schema_name)"
   ]
  },
  {
   "cell_type": "markdown",
   "metadata": {},
   "source": [
    "A more complete description of the entire MIMIC database can be found [here](mimic.physionet.org/gettingstarted/overview), but you can find a quick overview below.\n",
    "\n",
    "The tables are linked by identifiers with the suffix `ID`: `SUBJECT_ID` which represents a unique patient, `HADM_ID` which represents a unique patient hospital stay and `ICUSTAY_ID` which represents a unique patient ICU stay.\n",
    "\n",
    "The following tables are used to define and track patient stays:\n",
    "\n",
    "* `ADMISSIONS`: Every unique hospitalization for each patient in the database (defines HADM_ID)\n",
    "* `CALLOUT`: Information regarding when a patient was cleared for ICU discharge and when the patient was actually discharged\n",
    "* `ICUSTAYS`: Every unique ICU stay in the database (defines ICUSTAY_ID)\n",
    "* `PATIENTS`: Every unique patient in the database (defines SUBJECT_ID)\n",
    "* `SERVICES`: The clinical service under which a patient is registered\n",
    "* `TRANSFERS`: Patient movement from bed to bed within the hospital, including ICU admission and discharge\n",
    "\n",
    "A simple SQL query can therefore be used as follows, which would select only female subjects from the database, or patients with the subject_id 109 or 127.\n",
    "\n",
    "```sql\n",
    "SELECT *\n",
    "FROM patients\n",
    "WHERE subject_id = 109\n",
    "OR subject_id = 127;\n",
    "OR gender = 'F'\n",
    "```"
   ]
  },
  {
   "cell_type": "markdown",
   "metadata": {},
   "source": [
    "## Joining admissions, icustays, and patients tables\n",
    "\n",
    "We'll now combine multiple tables in order obtain a more detailed description of the data. In particular, we'll extract the following columns that contain basic information regarding the patients in the database:\n",
    "\n",
    "* Identifiers (subject_id, hadm_id, icustay_id)\n",
    "* The ICU care unit \n",
    "* The patients date of birth, death\n",
    "* The time the patient entered and left the ICU\n",
    "* The length of stay at the hospital\n",
    "* The age during the ICU and the hospital stay\n",
    "* Whether the patient died in the ICU or in the hospital"
   ]
  },
  {
   "cell_type": "code",
   "execution_count": 9,
   "metadata": {
    "collapsed": false
   },
   "outputs": [
    {
     "data": {
      "text/html": [
       "<div>\n",
       "<table border=\"1\" class=\"dataframe\">\n",
       "  <thead>\n",
       "    <tr style=\"text-align: right;\">\n",
       "      <th></th>\n",
       "      <th>subject_id</th>\n",
       "      <th>hadm_id</th>\n",
       "      <th>icustay_id</th>\n",
       "      <th>hosp_admittime</th>\n",
       "      <th>hosp_dischtime</th>\n",
       "      <th>first_careunit</th>\n",
       "      <th>icu_seq</th>\n",
       "      <th>dob</th>\n",
       "      <th>dod</th>\n",
       "      <th>icu_intime</th>\n",
       "      <th>icu_outtime</th>\n",
       "      <th>icu_los</th>\n",
       "      <th>hosp_los</th>\n",
       "      <th>gender</th>\n",
       "      <th>age_hosp_in</th>\n",
       "      <th>age_icu_in</th>\n",
       "      <th>hospital_expire_flag</th>\n",
       "      <th>icu_expire_flag</th>\n",
       "    </tr>\n",
       "  </thead>\n",
       "  <tbody>\n",
       "    <tr>\n",
       "      <th>0</th>\n",
       "      <td>3</td>\n",
       "      <td>145834</td>\n",
       "      <td>211552</td>\n",
       "      <td>2101-10-20 19:08:00</td>\n",
       "      <td>2101-10-31 13:58:00</td>\n",
       "      <td>MICU</td>\n",
       "      <td>1</td>\n",
       "      <td>2025-04-11</td>\n",
       "      <td>2102-06-14</td>\n",
       "      <td>2101-10-20 19:10:11</td>\n",
       "      <td>2101-10-26 20:43:09</td>\n",
       "      <td>6.0646</td>\n",
       "      <td>10.7847</td>\n",
       "      <td>M</td>\n",
       "      <td>76.5268</td>\n",
       "      <td>76.5268</td>\n",
       "      <td>0</td>\n",
       "      <td>0</td>\n",
       "    </tr>\n",
       "    <tr>\n",
       "      <th>1</th>\n",
       "      <td>4</td>\n",
       "      <td>185777</td>\n",
       "      <td>294638</td>\n",
       "      <td>2191-03-16 00:28:00</td>\n",
       "      <td>2191-03-23 18:41:00</td>\n",
       "      <td>MICU</td>\n",
       "      <td>1</td>\n",
       "      <td>2143-05-12</td>\n",
       "      <td>NaT</td>\n",
       "      <td>2191-03-16 00:29:31</td>\n",
       "      <td>2191-03-17 16:46:31</td>\n",
       "      <td>1.6785</td>\n",
       "      <td>7.7590</td>\n",
       "      <td>F</td>\n",
       "      <td>47.8450</td>\n",
       "      <td>47.8450</td>\n",
       "      <td>0</td>\n",
       "      <td>0</td>\n",
       "    </tr>\n",
       "    <tr>\n",
       "      <th>2</th>\n",
       "      <td>6</td>\n",
       "      <td>107064</td>\n",
       "      <td>228232</td>\n",
       "      <td>2175-05-30 07:15:00</td>\n",
       "      <td>2175-06-15 16:00:00</td>\n",
       "      <td>SICU</td>\n",
       "      <td>1</td>\n",
       "      <td>2109-06-21</td>\n",
       "      <td>NaT</td>\n",
       "      <td>2175-05-30 21:30:54</td>\n",
       "      <td>2175-06-03 13:39:54</td>\n",
       "      <td>3.6729</td>\n",
       "      <td>16.3646</td>\n",
       "      <td>F</td>\n",
       "      <td>65.9407</td>\n",
       "      <td>65.9423</td>\n",
       "      <td>0</td>\n",
       "      <td>0</td>\n",
       "    </tr>\n",
       "    <tr>\n",
       "      <th>3</th>\n",
       "      <td>9</td>\n",
       "      <td>150750</td>\n",
       "      <td>220597</td>\n",
       "      <td>2149-11-09 13:06:00</td>\n",
       "      <td>2149-11-14 10:15:00</td>\n",
       "      <td>MICU</td>\n",
       "      <td>1</td>\n",
       "      <td>2108-01-26</td>\n",
       "      <td>2149-11-14</td>\n",
       "      <td>2149-11-09 13:07:02</td>\n",
       "      <td>2149-11-14 20:52:14</td>\n",
       "      <td>5.3231</td>\n",
       "      <td>4.8813</td>\n",
       "      <td>M</td>\n",
       "      <td>41.7902</td>\n",
       "      <td>41.7902</td>\n",
       "      <td>1</td>\n",
       "      <td>1</td>\n",
       "    </tr>\n",
       "    <tr>\n",
       "      <th>4</th>\n",
       "      <td>11</td>\n",
       "      <td>194540</td>\n",
       "      <td>229441</td>\n",
       "      <td>2178-04-16 06:18:00</td>\n",
       "      <td>2178-05-11 19:00:00</td>\n",
       "      <td>SICU</td>\n",
       "      <td>1</td>\n",
       "      <td>2128-02-22</td>\n",
       "      <td>2178-11-14</td>\n",
       "      <td>2178-04-16 06:19:32</td>\n",
       "      <td>2178-04-17 20:21:05</td>\n",
       "      <td>1.5844</td>\n",
       "      <td>25.5292</td>\n",
       "      <td>F</td>\n",
       "      <td>50.1483</td>\n",
       "      <td>50.1483</td>\n",
       "      <td>0</td>\n",
       "      <td>0</td>\n",
       "    </tr>\n",
       "  </tbody>\n",
       "</table>\n",
       "</div>"
      ],
      "text/plain": [
       "   subject_id  hadm_id  icustay_id      hosp_admittime      hosp_dischtime  \\\n",
       "0           3   145834      211552 2101-10-20 19:08:00 2101-10-31 13:58:00   \n",
       "1           4   185777      294638 2191-03-16 00:28:00 2191-03-23 18:41:00   \n",
       "2           6   107064      228232 2175-05-30 07:15:00 2175-06-15 16:00:00   \n",
       "3           9   150750      220597 2149-11-09 13:06:00 2149-11-14 10:15:00   \n",
       "4          11   194540      229441 2178-04-16 06:18:00 2178-05-11 19:00:00   \n",
       "\n",
       "  first_careunit  icu_seq        dob        dod          icu_intime  \\\n",
       "0           MICU        1 2025-04-11 2102-06-14 2101-10-20 19:10:11   \n",
       "1           MICU        1 2143-05-12        NaT 2191-03-16 00:29:31   \n",
       "2           SICU        1 2109-06-21        NaT 2175-05-30 21:30:54   \n",
       "3           MICU        1 2108-01-26 2149-11-14 2149-11-09 13:07:02   \n",
       "4           SICU        1 2128-02-22 2178-11-14 2178-04-16 06:19:32   \n",
       "\n",
       "          icu_outtime  icu_los  hosp_los gender  age_hosp_in  age_icu_in  \\\n",
       "0 2101-10-26 20:43:09   6.0646   10.7847      M      76.5268     76.5268   \n",
       "1 2191-03-17 16:46:31   1.6785    7.7590      F      47.8450     47.8450   \n",
       "2 2175-06-03 13:39:54   3.6729   16.3646      F      65.9407     65.9423   \n",
       "3 2149-11-14 20:52:14   5.3231    4.8813      M      41.7902     41.7902   \n",
       "4 2178-04-17 20:21:05   1.5844   25.5292      F      50.1483     50.1483   \n",
       "\n",
       "   hospital_expire_flag  icu_expire_flag  \n",
       "0                     0                0  \n",
       "1                     0                0  \n",
       "2                     0                0  \n",
       "3                     1                1  \n",
       "4                     0                0  "
      ]
     },
     "execution_count": 9,
     "metadata": {},
     "output_type": "execute_result"
    }
   ],
   "source": [
    "query = \\\n",
    "\"\"\"\n",
    "WITH population as (\n",
    "SELECT a.subject_id, a.hadm_id, i.icustay_id, \n",
    "    a.admittime as hosp_admittime, a.dischtime as hosp_dischtime, \n",
    "    i.first_careunit, \n",
    "    DENSE_RANK() over(PARTITION BY a.hadm_id ORDER BY i.intime ASC) as icu_seq,\n",
    "    p.dob, p.dod, i.intime as icu_intime, i.outtime as icu_outtime, \n",
    "    i.los as icu_los,\n",
    "    round((EXTRACT(EPOCH FROM (a.dischtime-a.admittime))/60/60/24) :: NUMERIC, 4) as hosp_los, \n",
    "    p.gender, \n",
    "    round((EXTRACT(EPOCH FROM (a.admittime-p.dob))/60/60/24/365.242) :: NUMERIC, 4) as age_hosp_in,\n",
    "    round((EXTRACT(EPOCH FROM (i.intime-p.dob))/60/60/24/365.242) :: NUMERIC, 4) as age_icu_in,\n",
    "    hospital_expire_flag,\n",
    "    CASE WHEN p.dod IS NOT NULL \n",
    "        AND p.dod >= i.intime - interval '6 hour'\n",
    "        AND p.dod <= i.outtime + interval '6 hour' THEN 1 \n",
    "        ELSE 0 END AS icu_expire_flag\n",
    "FROM admissions a\n",
    "INNER JOIN icustays i\n",
    "ON a.hadm_id = i.hadm_id\n",
    "INNER JOIN patients p\n",
    "ON a.subject_id = p.subject_id\n",
    "ORDER BY a.subject_id, i.intime\n",
    ")\n",
    "SELECT *\n",
    "FROM population\n",
    "WHERE age_hosp_in >= 16;\n",
    "\"\"\"\n",
    "\n",
    "query_output = pd.read_sql_query(query,con)\n",
    "query_output.head()"
   ]
  },
  {
   "cell_type": "markdown",
   "metadata": {},
   "source": [
    "Using the above columns, we can compute the following points for general statistics of the dataset:\n",
    "\n",
    "* Hospital admissions, no. (% of total admissions)\n",
    "* Distinct ICU stays, no. (% of total unit stays)\n",
    "* Age, yrs, mean ± SD\n",
    "* Gender, male, percent of unit stays\n",
    "* ICU length of stay, median days (IQR)\n",
    "* Hospital length of stay, median days (IQR)\n",
    "* ICU mortality, percent of unit stays\n",
    "* Hospital mortality, percent of unit stays"
   ]
  },
  {
   "cell_type": "markdown",
   "metadata": {},
   "source": [
    "## Distinct patients, no. (% of total admissions)"
   ]
  },
  {
   "cell_type": "code",
   "execution_count": 8,
   "metadata": {
    "collapsed": false
   },
   "outputs": [
    {
     "name": "stdout",
     "output_type": "stream",
     "text": [
      "\n",
      "Total number patients: 38597\n",
      "\n",
      "Number of patients by first careunit:\n",
      "\n",
      "                subject_id\n",
      "first_careunit            \n",
      "CCU                   5674\n",
      "CSRU                  7611\n",
      "MICU                 13649\n",
      "SICU                  6372\n",
      "TSICU                 5291\n",
      "\n",
      "Proportion of total hospital admissions:\n",
      "\n",
      "                subject_id\n",
      "first_careunit            \n",
      "CCU              14.700624\n",
      "CSRU             19.719149\n",
      "MICU             35.362852\n",
      "SICU             16.509055\n",
      "TSICU            13.708319\n"
     ]
    }
   ],
   "source": [
    "print('\\nTotal number patients: {}'.format(len(query_output.subject_id.unique())))\n",
    "\n",
    "print('\\nNumber of patients by first careunit:\\n')\n",
    "print(query_output[['first_careunit','subject_id']] \\\n",
    "                    .drop_duplicates(['subject_id']) \\\n",
    "                    .groupby('first_careunit').count())\n",
    "    \n",
    "print('\\nProportion of total hospital admissions:\\n')\n",
    "print(query_output[['first_careunit','subject_id']] \\\n",
    "                    .drop_duplicates(['subject_id']) \\\n",
    "                    .groupby('first_careunit')\n",
    "                    .count()/len(query_output.subject_id.unique())*100)"
   ]
  },
  {
   "cell_type": "markdown",
   "metadata": {},
   "source": [
    "## Hospital admissions, no. (% of total admissions)"
   ]
  },
  {
   "cell_type": "code",
   "execution_count": 10,
   "metadata": {
    "collapsed": false
   },
   "outputs": [
    {
     "name": "stdout",
     "output_type": "stream",
     "text": [
      "\n",
      "Total hospital admissions: 49785\n",
      "\n",
      "Number of hospital admissions by first careunit:\n",
      "\n",
      "                hadm_id\n",
      "first_careunit         \n",
      "CCU                7258\n",
      "CSRU               8640\n",
      "MICU              19770\n",
      "SICU               8110\n",
      "TSICU              6007\n",
      "\n",
      "Proportion of total hospital admissions:\n",
      "\n",
      "                  hadm_id\n",
      "first_careunit           \n",
      "CCU             14.578688\n",
      "CSRU            17.354625\n",
      "MICU            39.710756\n",
      "SICU            16.290047\n",
      "TSICU           12.065883\n"
     ]
    }
   ],
   "source": [
    "print('\\nTotal hospital admissions: {}'\\\n",
    "    .format(len(query_output.hadm_id.unique())))\n",
    "\n",
    "print('\\nNumber of hospital admissions by first careunit:\\n')\n",
    "print(query_output[['first_careunit','hadm_id']] \\\n",
    "                    .drop_duplicates(['hadm_id']) \\\n",
    "                    .groupby('first_careunit').count())\n",
    "    \n",
    "print('\\nProportion of total hospital admissions:\\n')\n",
    "print(query_output[['first_careunit','hadm_id']] \\\n",
    "                    .drop_duplicates(['hadm_id']) \\\n",
    "                    .groupby('first_careunit') \\\n",
    "                    .count()/len(query_output.hadm_id.unique())*100)"
   ]
  },
  {
   "cell_type": "markdown",
   "metadata": {},
   "source": [
    "## Distinct ICU stays, no. (% of total unit stays)"
   ]
  },
  {
   "cell_type": "code",
   "execution_count": 11,
   "metadata": {
    "collapsed": false
   },
   "outputs": [
    {
     "name": "stdout",
     "output_type": "stream",
     "text": [
      "\n",
      "Total ICU stays: 53423\n",
      "\n",
      "Number of ICU stays by careunit:\n",
      "\n",
      "                icustay_id\n",
      "first_careunit            \n",
      "CCU                   7726\n",
      "CSRU                  9311\n",
      "MICU                 21087\n",
      "SICU                  8891\n",
      "TSICU                 6408\n",
      "\n",
      "Proportion of total ICU stays:\n",
      "\n",
      "                icustay_id\n",
      "first_careunit            \n",
      "CCU              14.461936\n",
      "CSRU             17.428823\n",
      "MICU             39.471763\n",
      "SICU             16.642645\n",
      "TSICU            11.994834\n"
     ]
    }
   ],
   "source": [
    "print('\\nTotal ICU stays: {}'\\\n",
    "    .format(len(query_output.icustay_id.unique())))\n",
    "\n",
    "print('\\nNumber of ICU stays by careunit:\\n')\n",
    "print(query_output[['first_careunit','icustay_id']] \\\n",
    "          .groupby('first_careunit').count())\n",
    "\n",
    "print('\\nProportion of total ICU stays:\\n')\n",
    "print(query_output[['first_careunit','icustay_id']] \\\n",
    "          .groupby('first_careunit') \\\n",
    "          .count()/len(query_output.icustay_id.unique())*100)"
   ]
  },
  {
   "cell_type": "markdown",
   "metadata": {},
   "source": [
    "## Age, yrs, median ± IQR\n",
    "\n",
    "We will report the median IQR for the age, since patients aged 90 and older appear with value 300."
   ]
  },
  {
   "cell_type": "code",
   "execution_count": 12,
   "metadata": {
    "collapsed": false
   },
   "outputs": [
    {
     "name": "stdout",
     "output_type": "stream",
     "text": [
      "Median age, years: 65.769 \n",
      "Lower quartile age, years: 52.8361 \n",
      "Upper quartile age, years: 77.80005 \n",
      " \n",
      "Median age by careunit, years:\n",
      " \n",
      "                age_icu_in\n",
      "first_careunit            \n",
      "CCU                70.5697\n",
      "CSRU               67.9286\n",
      "MICU               64.9124\n",
      "SICU               63.5819\n",
      "TSICU              59.6125\n",
      "\n",
      "Lower quartile by careunit, years:\n",
      " \n",
      "                age_icu_in\n",
      "first_careunit            \n",
      "CCU               58.44555\n",
      "CSRU              58.32150\n",
      "MICU              51.65590\n",
      "SICU              51.44315\n",
      "TSICU             42.45665\n",
      "\n",
      "Upper quartile by careunit, years:\n",
      " \n",
      "                age_icu_in\n",
      "first_careunit            \n",
      "CCU              80.541375\n",
      "CSRU             76.727250\n",
      "MICU             78.170950\n",
      "SICU             76.457500\n",
      "TSICU            75.601550\n"
     ]
    }
   ],
   "source": [
    "print('Median age, years: {} '.format(query_output.age_icu_in.median()))\n",
    "print('Lower quartile age, years: {} '.format(query_output.age_icu_in.quantile(0.25)))\n",
    "print('Upper quartile age, years: {} \\n '.format(query_output.age_icu_in.quantile(0.75)))\n",
    "\n",
    "print('Median age by careunit, years:\\n ')\n",
    "print(query_output[['first_careunit','age_icu_in']] \\\n",
    "      .groupby('first_careunit').median())\n",
    "\n",
    "print('\\nLower quartile by careunit, years:\\n ')\n",
    "print(query_output[['first_careunit','age_icu_in']] \\\n",
    "      .groupby('first_careunit').quantile(0.25))\n",
    "\n",
    "print('\\nUpper quartile by careunit, years:\\n ')\n",
    "print(query_output[['first_careunit','age_icu_in']] \\\n",
    "      .groupby('first_careunit').quantile(0.75))"
   ]
  },
  {
   "cell_type": "markdown",
   "metadata": {},
   "source": [
    "## Gender, percent of unit stays"
   ]
  },
  {
   "cell_type": "code",
   "execution_count": 13,
   "metadata": {
    "collapsed": false
   },
   "outputs": [
    {
     "name": "stdout",
     "output_type": "stream",
     "text": [
      "Gender:\n",
      "\n",
      "gender\n",
      "F    21802\n",
      "M    27983\n",
      "Name: gender, dtype: int64\n",
      "gender\n",
      "F    43.792307\n",
      "M    56.207693\n",
      "Name: gender, dtype: float64\n",
      "Gender by careunit:\n",
      "\n",
      "first_careunit  gender\n",
      "CCU             F          3055\n",
      "                M          4203\n",
      "CSRU            F          2963\n",
      "                M          5677\n",
      "MICU            F          9577\n",
      "                M         10193\n",
      "SICU            F          3859\n",
      "                M          4251\n",
      "TSICU           F          2348\n",
      "                M          3659\n",
      "Name: gender, dtype: int64\n",
      "\n",
      "Proportion by unit:\n",
      "\n",
      "first_careunit  gender\n",
      "CCU             F         42.091485\n",
      "                M         57.908515\n",
      "CSRU            F         34.293981\n",
      "                M         65.706019\n",
      "MICU            F         48.442084\n",
      "                M         51.557916\n",
      "SICU            F         47.583231\n",
      "                M         52.416769\n",
      "TSICU           F         39.087731\n",
      "                M         60.912269\n",
      "Name: gender, dtype: float64\n"
     ]
    }
   ],
   "source": [
    "print('Gender:\\n')\n",
    "print(query_output.loc[query_output.icu_seq==1].groupby('gender').gender.count())\n",
    "print(query_output.loc[query_output.icu_seq==1].groupby('gender').gender.count() \\\n",
    "     /query_output.loc[query_output.icu_seq==1].gender.count()*100)\n",
    "\n",
    "print('Gender by careunit:\\n')\n",
    "print(query_output.loc[query_output.icu_seq==1] \\\n",
    "    .groupby(['first_careunit','gender']).gender.count())\n",
    "\n",
    "print('\\nProportion by unit:\\n')\n",
    "print(query_output.loc[query_output.icu_seq==1] \\\n",
    "    .groupby(['first_careunit','gender']) \\\n",
    "    .gender.count()/query_output.loc[query_output.icu_seq==1] \\\n",
    "    .groupby(['first_careunit']).gender.count()*100)"
   ]
  },
  {
   "cell_type": "markdown",
   "metadata": {},
   "source": [
    "## ICU length of stay, median days"
   ]
  },
  {
   "cell_type": "code",
   "execution_count": 14,
   "metadata": {
    "collapsed": false
   },
   "outputs": [
    {
     "name": "stdout",
     "output_type": "stream",
     "text": [
      "Median ICU length of stay, days: 2.14425\n",
      "Median length of ICU stay by careunit, days:\n",
      " \n",
      "                icu_los\n",
      "first_careunit         \n",
      "CCU             2.19775\n",
      "CSRU            2.15295\n",
      "MICU            2.09560\n",
      "SICU            2.25220\n",
      "TSICU           2.11260\n"
     ]
    }
   ],
   "source": [
    "print('Median ICU length of stay, days: {}'.format(query_output.icu_los.median()))\n",
    "\n",
    "print('Median length of ICU stay by careunit, days:\\n ')\n",
    "print(query_output[['first_careunit','icu_los']] \\\n",
    "      .groupby('first_careunit').median())"
   ]
  },
  {
   "cell_type": "markdown",
   "metadata": {},
   "source": [
    "## ICU mortality, percent of unit stays"
   ]
  },
  {
   "cell_type": "code",
   "execution_count": 15,
   "metadata": {
    "collapsed": false
   },
   "outputs": [
    {
     "name": "stdout",
     "output_type": "stream",
     "text": [
      "ICU mortality, number:\n",
      "\n",
      "icu_expire_flag\n",
      "0    48858\n",
      "1     4565\n",
      "Name: icu_expire_flag, dtype: int64\n",
      "\n",
      "ICU mortality, %:\n",
      "\n",
      "icu_expire_flag\n",
      "0    91.454991\n",
      "1     8.545009\n",
      "Name: icu_expire_flag, dtype: float64\n",
      "\n",
      "ICU mortality by careunit:\n",
      "\n",
      "first_careunit  icu_expire_flag\n",
      "CCU             0                   7041\n",
      "                1                    685\n",
      "CSRU            0                   9010\n",
      "                1                    301\n",
      "MICU            0                  18865\n",
      "                1                   2222\n",
      "SICU            0                   8078\n",
      "                1                    813\n",
      "TSICU           0                   5864\n",
      "                1                    544\n",
      "Name: icu_expire_flag, dtype: int64\n",
      "\n",
      "Proportion by unit:\n",
      "\n",
      "first_careunit  icu_expire_flag\n",
      "CCU             0                  91.133834\n",
      "                1                   8.866166\n",
      "CSRU            0                  96.767265\n",
      "                1                   3.232735\n",
      "MICU            0                  89.462702\n",
      "                1                  10.537298\n",
      "SICU            0                  90.855922\n",
      "                1                   9.144078\n",
      "TSICU           0                  91.510612\n",
      "                1                   8.489388\n",
      "Name: icu_expire_flag, dtype: float64\n"
     ]
    }
   ],
   "source": [
    "print('ICU mortality, number:\\n')\n",
    "print(query_output \\\n",
    "    .groupby(['icu_expire_flag']) \\\n",
    "    .icu_expire_flag.count())\n",
    "\n",
    "print('\\nICU mortality, %:\\n')\n",
    "print(query_output.groupby(['icu_expire_flag']) \\\n",
    "    .icu_expire_flag.count() / query_output.icu_expire_flag.count()*100)\n",
    "\n",
    "print('\\nICU mortality by careunit:\\n')\n",
    "print(query_output \\\n",
    "    .groupby(['first_careunit','icu_expire_flag']) \\\n",
    "    .icu_expire_flag.count())\n",
    "\n",
    "print('\\nProportion by unit:\\n')\n",
    "print(query_output \\\n",
    "    .groupby(['first_careunit','icu_expire_flag']) \\\n",
    "    .icu_expire_flag.count()/query_output \\\n",
    "    .groupby(['first_careunit']).icu_expire_flag.count()*100)"
   ]
  },
  {
   "cell_type": "markdown",
   "metadata": {},
   "source": [
    "## Patient characteristics\n",
    "\n",
    "Let's first see how many charted observations are available for each hospitalization. To do so, we'll use the `CHARTEVENTS` table which contains the charted data, or the electronic chart of a patient. The electronic chart holds a patient's routine vital signs and additional information relevant to their care. The entries contain the `SUBJECT_ID`, `HADM_ID` and `ICUSTAY_ID` identified, and are associated with an `ITEMID` which is an identifier for a single measurement type, a `CHARTTIME` which is the timestamp at which the observation was made and a `VALUE` which contains the value measured identified by `ITEMID`. The `ITEMID` identifier description can be found in the `D_ITEMS` table which holds additional information regarding that measurement type, e.g. `ITEMID 212` corresponds to a heart rate measurement. "
   ]
  },
  {
   "cell_type": "code",
   "execution_count": 16,
   "metadata": {
    "collapsed": false
   },
   "outputs": [
    {
     "data": {
      "text/html": [
       "<div>\n",
       "<table border=\"1\" class=\"dataframe\">\n",
       "  <thead>\n",
       "    <tr style=\"text-align: right;\">\n",
       "      <th></th>\n",
       "      <th>avg</th>\n",
       "    </tr>\n",
       "  </thead>\n",
       "  <tbody>\n",
       "    <tr>\n",
       "      <th>0</th>\n",
       "      <td>5774.418267</td>\n",
       "    </tr>\n",
       "  </tbody>\n",
       "</table>\n",
       "</div>"
      ],
      "text/plain": [
       "           avg\n",
       "0  5774.418267"
      ]
     },
     "execution_count": 16,
     "metadata": {},
     "output_type": "execute_result"
    }
   ],
   "source": [
    "query = \\\n",
    "\"\"\"\n",
    "WITH chartobs AS (\n",
    "SELECT hadm_id, count(hadm_id) as obs\n",
    "FROM chartevents\n",
    "GROUP BY hadm_id)\n",
    "SELECT avg(obs)\n",
    "FROM chartobs;\n",
    "\"\"\"\n",
    "\n",
    "query_output = pd.read_sql_query(query,con)\n",
    "query_output.head()"
   ]
  },
  {
   "cell_type": "code",
   "execution_count": 5,
   "metadata": {
    "collapsed": false
   },
   "outputs": [
    {
     "name": "stdout",
     "output_type": "stream",
     "text": [
      "Number of different measurement types: 12487\n"
     ]
    },
    {
     "data": {
      "text/html": [
       "<div>\n",
       "<table border=\"1\" class=\"dataframe\">\n",
       "  <thead>\n",
       "    <tr style=\"text-align: right;\">\n",
       "      <th></th>\n",
       "      <th>row_id</th>\n",
       "      <th>itemid</th>\n",
       "      <th>label</th>\n",
       "      <th>abbreviation</th>\n",
       "      <th>dbsource</th>\n",
       "      <th>linksto</th>\n",
       "      <th>category</th>\n",
       "      <th>unitname</th>\n",
       "      <th>param_type</th>\n",
       "      <th>conceptid</th>\n",
       "    </tr>\n",
       "  </thead>\n",
       "  <tbody>\n",
       "    <tr>\n",
       "      <th>0</th>\n",
       "      <td>457</td>\n",
       "      <td>497</td>\n",
       "      <td>Patient controlled analgesia (PCA) [Inject]</td>\n",
       "      <td>None</td>\n",
       "      <td>carevue</td>\n",
       "      <td>chartevents</td>\n",
       "      <td>None</td>\n",
       "      <td>None</td>\n",
       "      <td>None</td>\n",
       "      <td>None</td>\n",
       "    </tr>\n",
       "    <tr>\n",
       "      <th>1</th>\n",
       "      <td>458</td>\n",
       "      <td>498</td>\n",
       "      <td>PCA Lockout (Min)</td>\n",
       "      <td>None</td>\n",
       "      <td>carevue</td>\n",
       "      <td>chartevents</td>\n",
       "      <td>None</td>\n",
       "      <td>None</td>\n",
       "      <td>None</td>\n",
       "      <td>None</td>\n",
       "    </tr>\n",
       "    <tr>\n",
       "      <th>2</th>\n",
       "      <td>459</td>\n",
       "      <td>499</td>\n",
       "      <td>PCA Medication</td>\n",
       "      <td>None</td>\n",
       "      <td>carevue</td>\n",
       "      <td>chartevents</td>\n",
       "      <td>None</td>\n",
       "      <td>None</td>\n",
       "      <td>None</td>\n",
       "      <td>None</td>\n",
       "    </tr>\n",
       "    <tr>\n",
       "      <th>3</th>\n",
       "      <td>460</td>\n",
       "      <td>500</td>\n",
       "      <td>PCA Total Dose</td>\n",
       "      <td>None</td>\n",
       "      <td>carevue</td>\n",
       "      <td>chartevents</td>\n",
       "      <td>None</td>\n",
       "      <td>None</td>\n",
       "      <td>None</td>\n",
       "      <td>None</td>\n",
       "    </tr>\n",
       "    <tr>\n",
       "      <th>4</th>\n",
       "      <td>461</td>\n",
       "      <td>501</td>\n",
       "      <td>PCV Exh Vt (Obser)</td>\n",
       "      <td>None</td>\n",
       "      <td>carevue</td>\n",
       "      <td>chartevents</td>\n",
       "      <td>None</td>\n",
       "      <td>None</td>\n",
       "      <td>None</td>\n",
       "      <td>None</td>\n",
       "    </tr>\n",
       "  </tbody>\n",
       "</table>\n",
       "</div>"
      ],
      "text/plain": [
       "   row_id  itemid                                        label abbreviation  \\\n",
       "0     457     497  Patient controlled analgesia (PCA) [Inject]         None   \n",
       "1     458     498                            PCA Lockout (Min)         None   \n",
       "2     459     499                               PCA Medication         None   \n",
       "3     460     500                               PCA Total Dose         None   \n",
       "4     461     501                           PCV Exh Vt (Obser)         None   \n",
       "\n",
       "  dbsource      linksto category unitname param_type conceptid  \n",
       "0  carevue  chartevents     None     None       None      None  \n",
       "1  carevue  chartevents     None     None       None      None  \n",
       "2  carevue  chartevents     None     None       None      None  \n",
       "3  carevue  chartevents     None     None       None      None  \n",
       "4  carevue  chartevents     None     None       None      None  "
      ]
     },
     "execution_count": 5,
     "metadata": {},
     "output_type": "execute_result"
    }
   ],
   "source": [
    "query = \\\n",
    "\"\"\"\n",
    "SELECT *\n",
    "FROM D_ITEMS;\n",
    "\"\"\"\n",
    "\n",
    "items_df = pd.read_sql_query(query,con)\n",
    "print(\"Number of different measurement types:\", len(items_df))\n",
    "items_df.head()"
   ]
  },
  {
   "cell_type": "markdown",
   "metadata": {},
   "source": [
    "As seen from above, the database contains a huge amount of data (over 12,000 different measurement types), with each hospitalization having on average close to 5700 charted observations. For that reason, we'll have to carefully select the columns and measurement types from the patient data in order to do our analysis."
   ]
  },
  {
   "cell_type": "markdown",
   "metadata": {},
   "source": [
    "## TODO \n",
    "\n",
    "* Plots \n",
    "* Table with features\n",
    "* Reduce amount of tables, or try to be more concise\n",
    "* MIMIC Postgres database setup tutorial\n",
    "* SQL intro/tutorial\n",
    "* Add better descriptions"
   ]
  },
  {
   "cell_type": "markdown",
   "metadata": {},
   "source": [
    "## References\n",
    "\n",
    "1. Ross, M. K., Wei Wei, and L. Ohno-Machado. \"“Big data” and the electronic health record.\" Yearbook of medical informatics 9.1 (2014): 97.\n",
    "\n",
    "2. Johnson, Alistair EW, et al. \"MIMIC-III, a freely accessible critical care database.\" Scientific data 3 (2016)."
   ]
  }
 ],
 "metadata": {
  "anaconda-cloud": {},
  "kernelspec": {
   "display_name": "Python [conda root]",
   "language": "python",
   "name": "conda-root-py"
  },
  "language_info": {
   "codemirror_mode": {
    "name": "ipython",
    "version": 3
   },
   "file_extension": ".py",
   "mimetype": "text/x-python",
   "name": "python",
   "nbconvert_exporter": "python",
   "pygments_lexer": "ipython3",
   "version": "3.5.2"
  }
 },
 "nbformat": 4,
 "nbformat_minor": 1
}
