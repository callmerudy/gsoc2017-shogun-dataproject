{
 "cells": [
  {
   "cell_type": "code",
   "execution_count": 1,
   "metadata": {
    "collapsed": true
   },
   "outputs": [],
   "source": [
    "# Import libraries\n",
    "import numpy as np\n",
    "import pandas as pd\n",
    "import matplotlib.pyplot as plt\n",
    "import psycopg2\n",
    "import getpass\n",
    "from scipy.stats import ks_2samp\n",
    "from scipy import interp\n",
    "from modshogun import *\n",
    "\n",
    "# below imports are used to print out pretty pandas dataframes\n",
    "from IPython.display import display, HTML\n",
    "\n",
    "%matplotlib inline\n",
    "plt.style.use('ggplot')"
   ]
  },
  {
   "cell_type": "code",
   "execution_count": 2,
   "metadata": {},
   "outputs": [
    {
     "name": "stdout",
     "output_type": "stream",
     "text": [
      "········\n"
     ]
    }
   ],
   "source": [
    "# SQL database config\n",
    "sqluser = 'o4nguyen'\n",
    "dbname = 'MIMIC3'\n",
    "schema_name = 'mimiciii'\n",
    "hostname = 'hdsldb.uwaterloo.ca'\n",
    "port = 5432\n",
    "pwd = getpass.getpass()"
   ]
  },
  {
   "cell_type": "code",
   "execution_count": 3,
   "metadata": {
    "collapsed": true
   },
   "outputs": [],
   "source": [
    "# Connect to local postgres version of mimic\n",
    "con = psycopg2.connect(dbname=dbname, user=sqluser, host=hostname, port=5432, password=pwd)\n",
    "cur = con.cursor()\n",
    "cur.execute('SET search_path to ' + schema_name)"
   ]
  },
  {
   "cell_type": "code",
   "execution_count": 5,
   "metadata": {},
   "outputs": [
    {
     "data": {
      "text/html": [
       "<div>\n",
       "<style>\n",
       "    .dataframe thead tr:only-child th {\n",
       "        text-align: right;\n",
       "    }\n",
       "\n",
       "    .dataframe thead th {\n",
       "        text-align: left;\n",
       "    }\n",
       "\n",
       "    .dataframe tbody tr th {\n",
       "        vertical-align: top;\n",
       "    }\n",
       "</style>\n",
       "<table border=\"1\" class=\"dataframe\">\n",
       "  <thead>\n",
       "    <tr style=\"text-align: right;\">\n",
       "      <th></th>\n",
       "      <th>Hypertension</th>\n",
       "    </tr>\n",
       "  </thead>\n",
       "  <tbody>\n",
       "    <tr>\n",
       "      <th>0</th>\n",
       "      <td>18031</td>\n",
       "    </tr>\n",
       "  </tbody>\n",
       "</table>\n",
       "</div>"
      ],
      "text/plain": [
       "   Hypertension\n",
       "0         18031"
      ]
     },
     "execution_count": 5,
     "metadata": {},
     "output_type": "execute_result"
    }
   ],
   "source": [
    "query = \\\n",
    "\"\"\"\n",
    "SELECT COUNT(DISTINCT subject_id) \n",
    "AS \"Hypertension\" \n",
    "FROM diagnoses_icd \n",
    "WHERE icd9_code \n",
    "-- 401% will search for all icd9 codes relating to hypertension\n",
    "LIKE '401%';\n",
    "\"\"\"\n",
    "\n",
    "query_output = pd.read_sql_query(query,con) #.dropna().reset_index(drop=True)\n",
    "query_output.head()"
   ]
  },
  {
   "cell_type": "code",
   "execution_count": 6,
   "metadata": {},
   "outputs": [
    {
     "data": {
      "text/html": [
       "<div>\n",
       "<style>\n",
       "    .dataframe thead tr:only-child th {\n",
       "        text-align: right;\n",
       "    }\n",
       "\n",
       "    .dataframe thead th {\n",
       "        text-align: left;\n",
       "    }\n",
       "\n",
       "    .dataframe tbody tr th {\n",
       "        vertical-align: top;\n",
       "    }\n",
       "</style>\n",
       "<table border=\"1\" class=\"dataframe\">\n",
       "  <thead>\n",
       "    <tr style=\"text-align: right;\">\n",
       "      <th></th>\n",
       "      <th>icd9</th>\n",
       "    </tr>\n",
       "  </thead>\n",
       "  <tbody>\n",
       "    <tr>\n",
       "      <th>0</th>\n",
       "      <td>6984</td>\n",
       "    </tr>\n",
       "  </tbody>\n",
       "</table>\n",
       "</div>"
      ],
      "text/plain": [
       "   icd9\n",
       "0  6984"
      ]
     },
     "execution_count": 6,
     "metadata": {},
     "output_type": "execute_result"
    }
   ],
   "source": [
    "query = \\\n",
    "\"\"\"\n",
    "SELECT COUNT(DISTINCT icd9_code)\n",
    "AS \"icd9\" \n",
    "FROM diagnoses_icd \n",
    "\"\"\"\n",
    "\n",
    "query_output = pd.read_sql_query(query,con) #.dropna().reset_index(drop=True)\n",
    "query_output.head()"
   ]
  },
  {
   "cell_type": "code",
   "execution_count": 7,
   "metadata": {},
   "outputs": [
    {
     "data": {
      "text/html": [
       "<div>\n",
       "<style>\n",
       "    .dataframe thead tr:only-child th {\n",
       "        text-align: right;\n",
       "    }\n",
       "\n",
       "    .dataframe thead th {\n",
       "        text-align: left;\n",
       "    }\n",
       "\n",
       "    .dataframe tbody tr th {\n",
       "        vertical-align: top;\n",
       "    }\n",
       "</style>\n",
       "<table border=\"1\" class=\"dataframe\">\n",
       "  <thead>\n",
       "    <tr style=\"text-align: right;\">\n",
       "      <th></th>\n",
       "      <th>total</th>\n",
       "      <th>0-15</th>\n",
       "      <th>16-20</th>\n",
       "      <th>21-25</th>\n",
       "      <th>26-30</th>\n",
       "      <th>31-35</th>\n",
       "      <th>36-40</th>\n",
       "      <th>41-45</th>\n",
       "      <th>46-50</th>\n",
       "      <th>51-55</th>\n",
       "      <th>56-60</th>\n",
       "      <th>61-65</th>\n",
       "      <th>66-70</th>\n",
       "      <th>71-75</th>\n",
       "      <th>76-80</th>\n",
       "      <th>81-85</th>\n",
       "      <th>86-91</th>\n",
       "      <th>&gt;91</th>\n",
       "    </tr>\n",
       "  </thead>\n",
       "  <tbody>\n",
       "    <tr>\n",
       "      <th>0</th>\n",
       "      <td>18031</td>\n",
       "      <td>13</td>\n",
       "      <td>14</td>\n",
       "      <td>55</td>\n",
       "      <td>62</td>\n",
       "      <td>144</td>\n",
       "      <td>293</td>\n",
       "      <td>552</td>\n",
       "      <td>915</td>\n",
       "      <td>1385</td>\n",
       "      <td>1863</td>\n",
       "      <td>2144</td>\n",
       "      <td>2195</td>\n",
       "      <td>2197</td>\n",
       "      <td>2375</td>\n",
       "      <td>1938</td>\n",
       "      <td>816</td>\n",
       "      <td>1070</td>\n",
       "    </tr>\n",
       "  </tbody>\n",
       "</table>\n",
       "</div>"
      ],
      "text/plain": [
       "   total  0-15  16-20  21-25  26-30  31-35  36-40  41-45  46-50  51-55  56-60  \\\n",
       "0  18031    13     14     55     62    144    293    552    915   1385   1863   \n",
       "\n",
       "   61-65  66-70  71-75  76-80  81-85  86-91   >91  \n",
       "0   2144   2195   2197   2375   1938    816  1070  "
      ]
     },
     "execution_count": 7,
     "metadata": {},
     "output_type": "execute_result"
    }
   ],
   "source": [
    "query = \\\n",
    "\"\"\"\n",
    "WITH diatbl AS \n",
    "\t(\n",
    "\tSELECT DISTINCT ON (dia.subject_id) dia.subject_id, ad.admittime\n",
    "\tFROM diagnoses_icd dia\n",
    "\tINNER JOIN admissions ad\n",
    "\tON dia.subject_id = ad.subject_id\n",
    "\tWHERE dia.icd9_code \n",
    "\t-- 401% relates to hypertension\n",
    "\tLIKE '401%'\n",
    "\t),\n",
    "agetbl AS \n",
    "\t(\n",
    "\tSELECT dt.subject_id,\n",
    "\t(extract(DAY FROM dt.admittime - p.dob)\n",
    "\t+ extract(HOUR FROM dt.admittime - p.dob)/24\n",
    "\t+ extract(MINUTE FROM dt.admittime - p.dob)/24/60)/365.25\n",
    "\tAS age\n",
    "\tFROM diatbl dt\n",
    "\tINNER JOIN patients p\n",
    "\tON dt.subject_id = p.subject_id\n",
    "\t)\n",
    "SELECT\n",
    "        COUNT(*) AS TOTAL,\n",
    "        COUNT(CASE WHEN age >= 0 AND age < 16 THEN  '0 - 15' END) AS \"0-15\",\n",
    "        COUNT(CASE WHEN age >= 16 AND age < 21 THEN '16 - 20' END) AS \"16-20\",\n",
    "        COUNT(CASE WHEN age >= 21 AND age < 26 THEN '21 - 25' END) AS \"21-25\",\n",
    "        COUNT(CASE WHEN age >= 26 AND age < 31 THEN '26 - 30' END) AS \"26-30\",\n",
    "        COUNT(CASE WHEN age >= 31 AND age < 36 THEN '31 - 35' END) AS \"31-35\",\n",
    "        COUNT(CASE WHEN age >= 36 AND age < 41 THEN '36 - 40' END) AS \"36-40\",\n",
    "        COUNT(CASE WHEN age >= 41 AND age < 46 THEN '41 - 45' END) AS \"41-45\",\n",
    "        COUNT(CASE WHEN age >= 46 AND age < 51 THEN '46 - 50' END) AS \"46-50\",\n",
    "        COUNT(CASE WHEN age >= 51 AND age < 56 THEN '51 - 55' END) AS \"51-55\",\n",
    "        COUNT(CASE WHEN age >= 56 AND age < 61 THEN '56 - 60' END) AS \"56-60\",\n",
    "        COUNT(CASE WHEN age >= 61 AND age < 66 THEN '61 - 65' END) AS \"61-65\",\n",
    "        COUNT(CASE WHEN age >= 66 AND age < 71 THEN '66 - 70' END) AS \"66-70\",\n",
    "        COUNT(CASE WHEN age >= 71 AND age < 76 THEN '71 - 75' END) AS \"71-75\",\n",
    "        COUNT(CASE WHEN age >= 76 AND age < 81 THEN '76 - 80' END) AS \"76-80\",\n",
    "        COUNT(CASE WHEN age >= 81 AND age < 86 THEN '81 - 85' END) AS \"81-85\",\n",
    "        COUNT(CASE WHEN age >= 86 AND age < 91 THEN '86 - 90' END) AS \"86-91\",\n",
    "        COUNT(CASE WHEN age >= 91 THEN 'Over 91' END) AS \">91\"\n",
    "FROM agetbl;\n",
    "\"\"\"\n",
    "\n",
    "query_output = pd.read_sql_query(query,con) #.dropna().reset_index(drop=True)\n",
    "query_output.head()"
   ]
  },
  {
   "cell_type": "code",
   "execution_count": 19,
   "metadata": {},
   "outputs": [
    {
     "data": {
      "text/plain": [
       "(array([    0.,   500.,  1000.,  1500.,  2000.,  2500.]),\n",
       " <a list of 6 Text yticklabel objects>)"
      ]
     },
     "execution_count": 19,
     "metadata": {},
     "output_type": "execute_result"
    },
    {
     "data": {
      "image/png": "[encoded data removed]",
      "text/plain": [
       "<matplotlib.figure.Figure at 0x7f9284779cd0>"
      ]
     },
     "metadata": {},
     "output_type": "display_data"
    }
   ],
   "source": [
    "query_output.loc[:, '0-15':].plot.bar(figsize=(16, 12))\n",
    "plt.xticks()\n",
    "plt.yticks()"
   ]
  }
 ],
 "metadata": {
  "kernelspec": {
   "display_name": "Python 2",
   "language": "python",
   "name": "python2"
  },
  "language_info": {
   "codemirror_mode": {
    "name": "ipython",
    "version": 2
   },
   "file_extension": ".py",
   "mimetype": "text/x-python",
   "name": "python",
   "nbconvert_exporter": "python",
   "pygments_lexer": "ipython2",
   "version": "2.7.6"
  }
 },
 "nbformat": 4,
 "nbformat_minor": 2
}
