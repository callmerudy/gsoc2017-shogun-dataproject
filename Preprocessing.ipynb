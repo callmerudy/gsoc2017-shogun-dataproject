{
 "cells": [
  {
   "cell_type": "markdown",
   "metadata": {},
   "source": [
    "## Preprocessing MIMIC\n",
    "\n",
    "Now that we've explored the contents of the MIMIC database, let's put a heavier focus on the prediction tasks that we are trying to achieve:\n",
    "\n",
    "* (1) mortality prediction\n",
    "* (2) hospital readmission \n",
    "* (3) length of stay\n",
    "\n",
    "We've seen in the previous part that the availble amount of features is extremely large. For that reason, we'll have to carefully select the columns and measurement types from the patient data in order to do our analysis. In this part, we'll dive into the feature selection and the preprocessing of the data so that it is usable for our machine learning classifiers."
   ]
  },
  {
   "cell_type": "markdown",
   "metadata": {},
   "source": [
    "## Features\n",
    "\n",
    "We shall consider the following features:\n",
    "\n",
    "* Age at admission\n",
    "* Gender\n",
    "* Admission type\n",
    "* Vital signs\n",
    "    * Heart rate\n",
    "    * Body temperature\n",
    "    * Respiratory rate\n",
    "    * Mean and systolic blood pressure\n",
    "    * SpO2\n",
    "\n",
    "Outcomes:\n",
    "\n",
    "* Length of ICU & hospital stay\n",
    "* Hospital re-admission\n",
    "* Mortality 30 days post-discharge\n",
    "\n",
    "\n",
    "To consider:\n",
    "\n",
    "* Diagnoses"
   ]
  },
  {
   "cell_type": "code",
   "execution_count": 4,
   "metadata": {
    "collapsed": true
   },
   "outputs": [],
   "source": [
    "# Import libraries\n",
    "import numpy as np\n",
    "import pandas as pd\n",
    "import matplotlib.pyplot as plt\n",
    "import psycopg2\n",
    "import getpass\n",
    "\n",
    "# below imports are used to print out pretty pandas dataframes\n",
    "from IPython.display import display, HTML\n",
    "\n",
    "%matplotlib inline\n",
    "plt.style.use('ggplot')"
   ]
  },
  {
   "cell_type": "code",
   "execution_count": 5,
   "metadata": {
    "collapsed": false
   },
   "outputs": [
    {
     "name": "stdout",
     "output_type": "stream",
     "text": [
      "········\n"
     ]
    }
   ],
   "source": [
    "# SQL database config\n",
    "sqluser = ''\n",
    "dbname = 'MIMIC3'\n",
    "schema_name = 'mimiciii'\n",
    "hostname = ''\n",
    "port = 5432\n",
    "pwd = getpass.getpass()"
   ]
  },
  {
   "cell_type": "code",
   "execution_count": 18,
   "metadata": {
    "collapsed": true
   },
   "outputs": [],
   "source": [
    "# Connect to local postgres version of mimic\n",
    "con = psycopg2.connect(dbname=dbname, user=sqluser, host=hostname, port=5432, password=pwd)\n",
    "cur = con.cursor()\n",
    "cur.execute('SET search_path to ' + schema_name)"
   ]
  },
  {
   "cell_type": "code",
   "execution_count": 20,
   "metadata": {
    "collapsed": false
   },
   "outputs": [],
   "source": [
    "query = \\\n",
    "\"\"\"\n",
    "WITH population as (\n",
    "SELECT ce.icustay_id, charttime, itemid, valuenum,\n",
    "    adm.subject_id, adm.hadm_id, i.icustay_id, \n",
    "    adm.admittime as hosp_admittime, adm.dischtime as hosp_dischtime, \n",
    "    i.first_careunit, \n",
    "    DENSE_RANK() over(PARTITION BY adm.hadm_id ORDER BY i.intime ASC) as icu_seq,\n",
    "    p.dob, p.dod, i.intime as icu_intime, i.outtime as icu_outtime, \n",
    "    i.los as icu_los,\n",
    "    round((EXTRACT(EPOCH FROM (adm.dischtime-adm.admittime))/60/60/24) :: NUMERIC, 4) as hosp_los, \n",
    "    p.gender, \n",
    "    round((EXTRACT(EPOCH FROM (adm.admittime-p.dob))/60/60/24/365.242) :: NUMERIC, 4) as age_hosp_in,\n",
    "    round((EXTRACT(EPOCH FROM (i.intime-p.dob))/60/60/24/365.242) :: NUMERIC, 4) as age_icu_in,\n",
    "    hospital_expire_flag,\n",
    "    CASE WHEN p.dod IS NOT NULL \n",
    "        AND p.dod >= i.intime - interval '6 hour'\n",
    "        AND p.dod <= i.outtime + interval '6 hour' THEN 1 \n",
    "        ELSE 0 END AS icu_expire_flag\n",
    "FROM chartevents ce\n",
    "INNER JOIN icustays ie\n",
    "ON ce.icustay_id = ie.icustay_id        \n",
    "INNER JOIN admissions adm\n",
    "ON ce.hadm_id = adm.hadm_id\n",
    "INNER JOIN icustays i\n",
    "ON ce.hadm_id = i.hadm_id\n",
    "INNER JOIN patients p\n",
    "ON adm.subject_id = p.subject_id\n",
    "ORDER BY adm.subject_id, i.intime\n",
    ")\n",
    "SELECT first_careunit, icu_los, hosp_los, gender, age_hosp_in, age_icu_in, hospital_expire_flag, icu_expire_flag\n",
    "FROM population\n",
    "WHERE age_hosp_in >= 16;\n",
    "\"\"\"\n",
    "\n",
    "query_output = pd.read_sql_query(query,con)\n",
    "query_output.head()"
   ]
  },
  {
   "cell_type": "markdown",
   "metadata": {},
   "source": [
    "## Exclusions\n",
    "\n",
    "The following parameters will be taken into account to exclude a subset of the data.\n",
    "\n",
    "* Patients aged less than 16 years old\n",
    "    * This also removed neonates and children, which likely have different predictors than adults\n",
    "* Second admissions\n",
    "    * Simplifies analysis which assumes independent observations\n",
    "    * We avoid taking into account that ICU stays are highly correlated\n",
    "* Length of stay less than 2 days\n",
    "    * helps remove false positives that we're placed in ICU for precaution\n",
    "\n",
    "To consider:\n",
    "    \n",
    "* Exclude patients based on hospital services\n",
    "    * Gets a more homogenous group of patients"
   ]
  },
  {
   "cell_type": "code",
   "execution_count": 8,
   "metadata": {
    "collapsed": false
   },
   "outputs": [
    {
     "data": {
      "text/html": [
       "<div>\n",
       "<table border=\"1\" class=\"dataframe\">\n",
       "  <thead>\n",
       "    <tr style=\"text-align: right;\">\n",
       "      <th></th>\n",
       "      <th>subject_id</th>\n",
       "      <th>hadm_id</th>\n",
       "      <th>icustay_id</th>\n",
       "      <th>icu_length_of_stay</th>\n",
       "      <th>age</th>\n",
       "      <th>icustay_id_order</th>\n",
       "      <th>exclusion_los</th>\n",
       "      <th>exclusion_age</th>\n",
       "      <th>exclusion_first_stay</th>\n",
       "    </tr>\n",
       "  </thead>\n",
       "  <tbody>\n",
       "    <tr>\n",
       "      <th>0</th>\n",
       "      <td>2</td>\n",
       "      <td>163353</td>\n",
       "      <td>243653</td>\n",
       "      <td>0.091829</td>\n",
       "      <td>0.002434</td>\n",
       "      <td>1</td>\n",
       "      <td>1</td>\n",
       "      <td>1</td>\n",
       "      <td>0</td>\n",
       "    </tr>\n",
       "    <tr>\n",
       "      <th>1</th>\n",
       "      <td>3</td>\n",
       "      <td>145834</td>\n",
       "      <td>211552</td>\n",
       "      <td>6.064560</td>\n",
       "      <td>76.526792</td>\n",
       "      <td>1</td>\n",
       "      <td>0</td>\n",
       "      <td>0</td>\n",
       "      <td>0</td>\n",
       "    </tr>\n",
       "    <tr>\n",
       "      <th>2</th>\n",
       "      <td>4</td>\n",
       "      <td>185777</td>\n",
       "      <td>294638</td>\n",
       "      <td>1.678472</td>\n",
       "      <td>47.845047</td>\n",
       "      <td>1</td>\n",
       "      <td>1</td>\n",
       "      <td>0</td>\n",
       "      <td>0</td>\n",
       "    </tr>\n",
       "    <tr>\n",
       "      <th>3</th>\n",
       "      <td>5</td>\n",
       "      <td>178980</td>\n",
       "      <td>214757</td>\n",
       "      <td>0.084444</td>\n",
       "      <td>0.000693</td>\n",
       "      <td>1</td>\n",
       "      <td>1</td>\n",
       "      <td>1</td>\n",
       "      <td>0</td>\n",
       "    </tr>\n",
       "    <tr>\n",
       "      <th>4</th>\n",
       "      <td>6</td>\n",
       "      <td>107064</td>\n",
       "      <td>228232</td>\n",
       "      <td>3.672917</td>\n",
       "      <td>65.942297</td>\n",
       "      <td>1</td>\n",
       "      <td>0</td>\n",
       "      <td>0</td>\n",
       "      <td>0</td>\n",
       "    </tr>\n",
       "  </tbody>\n",
       "</table>\n",
       "</div>"
      ],
      "text/plain": [
       "   subject_id  hadm_id  icustay_id  icu_length_of_stay        age  \\\n",
       "0           2   163353      243653            0.091829   0.002434   \n",
       "1           3   145834      211552            6.064560  76.526792   \n",
       "2           4   185777      294638            1.678472  47.845047   \n",
       "3           5   178980      214757            0.084444   0.000693   \n",
       "4           6   107064      228232            3.672917  65.942297   \n",
       "\n",
       "   icustay_id_order  exclusion_los  exclusion_age  exclusion_first_stay  \n",
       "0                 1              1              1                     0  \n",
       "1                 1              0              0                     0  \n",
       "2                 1              1              0                     0  \n",
       "3                 1              1              1                     0  \n",
       "4                 1              0              0                     0  "
      ]
     },
     "execution_count": 8,
     "metadata": {},
     "output_type": "execute_result"
    }
   ],
   "source": [
    "query = \\\n",
    "\"\"\"\n",
    "WITH co AS\n",
    "(\n",
    "SELECT icu.subject_id, icu.hadm_id, icu.icustay_id\n",
    ", EXTRACT(EPOCH FROM outtime - intime)/60.0/60.0/24.0 as icu_length_of_stay\n",
    ", EXTRACT('epoch' from icu.intime - pat.dob) / 60.0 / 60.0 / 24.0 / 365.242 as age\n",
    ", RANK() OVER (PARTITION BY icu.subject_id ORDER BY icu.intime) AS icustay_id_order\n",
    "\n",
    "FROM icustays icu\n",
    "INNER JOIN patients pat\n",
    "  ON icu.subject_id = pat.subject_id\n",
    "LIMIT 10\n",
    ")\n",
    "SELECT\n",
    "  co.subject_id, co.hadm_id, co.icustay_id, co.icu_length_of_stay\n",
    "  , co.age\n",
    "  , co.icustay_id_order\n",
    "  \n",
    "  , CASE\n",
    "        WHEN co.icu_length_of_stay < 2 then 1\n",
    "    ELSE 0 END\n",
    "    AS exclusion_los\n",
    "  , CASE\n",
    "        WHEN co.age < 16 then 1\n",
    "    ELSE 0 END\n",
    "    AS exclusion_age\n",
    "  , CASE \n",
    "        WHEN co.icustay_id_order != 1 THEN 1\n",
    "    ELSE 0 END \n",
    "    AS exclusion_first_stay\n",
    "FROM co\n",
    "\"\"\"\n",
    "df = pd.read_sql_query(query, con)\n",
    "df.head()"
   ]
  }
 ],
 "metadata": {
  "anaconda-cloud": {},
  "kernelspec": {
   "display_name": "Python [conda root]",
   "language": "python",
   "name": "conda-root-py"
  },
  "language_info": {
   "codemirror_mode": {
    "name": "ipython",
    "version": 3
   },
   "file_extension": ".py",
   "mimetype": "text/x-python",
   "name": "python",
   "nbconvert_exporter": "python",
   "pygments_lexer": "ipython3",
   "version": "3.5.2"
  }
 },
 "nbformat": 4,
 "nbformat_minor": 1
}
